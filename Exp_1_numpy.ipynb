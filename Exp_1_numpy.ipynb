{
  "nbformat": 4,
  "nbformat_minor": 0,
  "metadata": {
    "colab": {
      "name": "Exp-1 numpy",
      "provenance": [],
      "authorship_tag": "ABX9TyPFhUP0a/wHVVtOxtxEakOF",
      "include_colab_link": true
    },
    "kernelspec": {
      "name": "python3",
      "display_name": "Python 3"
    }
  },
  "cells": [
    {
      "cell_type": "markdown",
      "metadata": {
        "id": "view-in-github",
        "colab_type": "text"
      },
      "source": [
        "<a href=\"https://colab.research.google.com/github/19PA1A0222/AI-Lab/blob/master/Exp_1_numpy.ipynb\" target=\"_parent\"><img src=\"https://colab.research.google.com/assets/colab-badge.svg\" alt=\"Open In Colab\"/></a>"
      ]
    },
    {
      "cell_type": "markdown",
      "metadata": {
        "id": "gRXG4RBFlwdM",
        "colab_type": "text"
      },
      "source": [
        "# Experiment No 1:Numpy"
      ]
    },
    {
      "cell_type": "markdown",
      "metadata": {
        "id": "hY1JTntil_gD",
        "colab_type": "text"
      },
      "source": [
        "## 1) Differentways to create a Numpy arrays."
      ]
    },
    {
      "cell_type": "markdown",
      "metadata": {
        "id": "V4M3SoAVDarD",
        "colab_type": "text"
      },
      "source": [
        "###a)Create a numpy array using list"
      ]
    },
    {
      "cell_type": "code",
      "metadata": {
        "id": "ChzUGG9-185U",
        "colab_type": "code",
        "colab": {
          "base_uri": "https://localhost:8080/",
          "height": 34
        },
        "outputId": "63a11682-d78d-4424-fbda-fb53bb4a1f73"
      },
      "source": [
        "import numpy as np\n",
        "a = np.array([2,3,4])\n",
        "print(a)"
      ],
      "execution_count": null,
      "outputs": [
        {
          "output_type": "stream",
          "text": [
            "[2 3 4]\n"
          ],
          "name": "stdout"
        }
      ]
    },
    {
      "cell_type": "markdown",
      "metadata": {
        "id": "ayWwCuxxDozz",
        "colab_type": "text"
      },
      "source": [
        "###b)Create a numpy array using arange"
      ]
    },
    {
      "cell_type": "code",
      "metadata": {
        "id": "mw34UYUa5g4i",
        "colab_type": "code",
        "colab": {
          "base_uri": "https://localhost:8080/",
          "height": 34
        },
        "outputId": "4f49c467-2f5d-4f5c-a3ca-b6df969eefac"
      },
      "source": [
        "b = np.arange(8)\n",
        "print(b)"
      ],
      "execution_count": null,
      "outputs": [
        {
          "output_type": "stream",
          "text": [
            "[0 1 2 3 4 5 6 7]\n"
          ],
          "name": "stdout"
        }
      ]
    },
    {
      "cell_type": "markdown",
      "metadata": {
        "id": "1Or8tzjB9NiW",
        "colab_type": "text"
      },
      "source": [
        "## 2)Add,remove,modify elements in a array"
      ]
    },
    {
      "cell_type": "markdown",
      "metadata": {
        "id": "OoW7Z40B9e3J",
        "colab_type": "text"
      },
      "source": [
        "### a)Add"
      ]
    },
    {
      "cell_type": "code",
      "metadata": {
        "id": "ThQNteJo9pX2",
        "colab_type": "code",
        "colab": {
          "base_uri": "https://localhost:8080/",
          "height": 34
        },
        "outputId": "940a122a-01e1-47ec-b9da-a6aa0fbe13b2"
      },
      "source": [
        "s = np.append(a,[2,5,7])\n",
        "print(s)"
      ],
      "execution_count": null,
      "outputs": [
        {
          "output_type": "stream",
          "text": [
            "[2 3 4 2 5 7]\n"
          ],
          "name": "stdout"
        }
      ]
    },
    {
      "cell_type": "markdown",
      "metadata": {
        "id": "vLVa3XOf-sAo",
        "colab_type": "text"
      },
      "source": [
        "### b)Remove"
      ]
    },
    {
      "cell_type": "code",
      "metadata": {
        "id": "j7ra_A2k-0jo",
        "colab_type": "code",
        "colab": {
          "base_uri": "https://localhost:8080/",
          "height": 34
        },
        "outputId": "265281c0-dbee-4ce0-c02c-b97c0a64ad89"
      },
      "source": [
        "p = np.delete(a,2)\n",
        "print(p)"
      ],
      "execution_count": null,
      "outputs": [
        {
          "output_type": "stream",
          "text": [
            "[2 3]\n"
          ],
          "name": "stdout"
        }
      ]
    },
    {
      "cell_type": "markdown",
      "metadata": {
        "id": "9087cSaD_Si9",
        "colab_type": "text"
      },
      "source": [
        "### c)Modify"
      ]
    },
    {
      "cell_type": "code",
      "metadata": {
        "id": "uaM1MFyI_Z9F",
        "colab_type": "code",
        "colab": {
          "base_uri": "https://localhost:8080/",
          "height": 34
        },
        "outputId": "dd132a26-9f28-4064-8eac-81a0f911cef5"
      },
      "source": [
        "s = np.array([6,4,3,1,9,5])\n",
        "s[s<2]=-1\n",
        "print(s)"
      ],
      "execution_count": null,
      "outputs": [
        {
          "output_type": "stream",
          "text": [
            "[ 6  4  3 -1  9  5]\n"
          ],
          "name": "stdout"
        }
      ]
    },
    {
      "cell_type": "markdown",
      "metadata": {
        "id": "T4DbdcXMBBKv",
        "colab_type": "text"
      },
      "source": [
        "## 3)Arthematic operations on Numpy array."
      ]
    },
    {
      "cell_type": "markdown",
      "metadata": {
        "id": "PL4TFOnsfT9d",
        "colab_type": "text"
      },
      "source": [
        "###a) Add"
      ]
    },
    {
      "cell_type": "code",
      "metadata": {
        "id": "fJ_g3D-KBMGx",
        "colab_type": "code",
        "colab": {
          "base_uri": "https://localhost:8080/",
          "height": 89
        },
        "outputId": "b3422ef7-0123-4648-c257-662239994281"
      },
      "source": [
        " \n",
        "import numpy as np\n",
        "t = np.random.random((3,3))\n",
        "r = np.random.random((3,3))\n",
        "add = np.add(t,r)\n",
        " \n",
        "print(add)"
      ],
      "execution_count": 1,
      "outputs": [
        {
          "output_type": "stream",
          "text": [
            "[[1.82487078 0.98547183 0.42770924]\n",
            " [1.187468   1.38272672 1.18904154]\n",
            " [0.33512657 0.43310275 1.52364176]]\n"
          ],
          "name": "stdout"
        }
      ]
    },
    {
      "cell_type": "markdown",
      "metadata": {
        "id": "5nhHNb44fYMw",
        "colab_type": "text"
      },
      "source": [
        "###b) Subtract"
      ]
    },
    {
      "cell_type": "code",
      "metadata": {
        "id": "-tBK6ziyUKWM",
        "colab_type": "code",
        "colab": {
          "base_uri": "https://localhost:8080/",
          "height": 89
        },
        "outputId": "9a97c7b8-2aac-4bcf-839e-c84332347db0"
      },
      "source": [
        "sub = np.subtract(t,r)\n",
        "print(sub)"
      ],
      "execution_count": 3,
      "outputs": [
        {
          "output_type": "stream",
          "text": [
            "[[ 0.0855581  -0.8680213  -0.20157676]\n",
            " [ 0.00957162  0.30972335 -0.68744112]\n",
            " [ 0.16426743 -0.03437786  0.35734173]]\n"
          ],
          "name": "stdout"
        }
      ]
    },
    {
      "cell_type": "markdown",
      "metadata": {
        "id": "sXAtCemdf4P-",
        "colab_type": "text"
      },
      "source": [
        "###C) Multiply"
      ]
    },
    {
      "cell_type": "code",
      "metadata": {
        "id": "nxbQ3t9tUXtU",
        "colab_type": "code",
        "colab": {
          "base_uri": "https://localhost:8080/",
          "height": 89
        },
        "outputId": "e1336364-f501-44b6-94e0-f0b8abf8e03f"
      },
      "source": [
        "prod = np.multiply(t,r)\n",
        "print(prod)"
      ],
      "execution_count": 4,
      "outputs": [
        {
          "output_type": "stream",
          "text": [
            "[[0.8307083  0.05442344 0.0355755 ]\n",
            " [0.35249716 0.45400116 0.23531113]\n",
            " [0.02133151 0.04659904 0.54844778]]\n"
          ],
          "name": "stdout"
        }
      ]
    },
    {
      "cell_type": "markdown",
      "metadata": {
        "id": "xLnU_UsqgHTQ",
        "colab_type": "text"
      },
      "source": [
        "###d) Mod"
      ]
    },
    {
      "cell_type": "code",
      "metadata": {
        "id": "pVg-Z4UTUk3q",
        "colab_type": "code",
        "colab": {
          "base_uri": "https://localhost:8080/",
          "height": 89
        },
        "outputId": "b6efe0ac-7a06-4098-8908-486c6c2d07d0"
      },
      "source": [
        "mod = np.mod(t,r)\n",
        "print(mod)"
      ],
      "execution_count": 5,
      "outputs": [
        {
          "output_type": "stream",
          "text": [
            "[[0.0855581  0.05872527 0.11306624]\n",
            " [0.00957162 0.30972335 0.25080021]\n",
            " [0.07883787 0.19936244 0.35734173]]\n"
          ],
          "name": "stdout"
        }
      ]
    },
    {
      "cell_type": "markdown",
      "metadata": {
        "id": "yjXmZRNVgFtJ",
        "colab_type": "text"
      },
      "source": [
        "###e) Power"
      ]
    },
    {
      "cell_type": "code",
      "metadata": {
        "id": "0pCfXQCxUupf",
        "colab_type": "code",
        "colab": {
          "base_uri": "https://localhost:8080/",
          "height": 89
        },
        "outputId": "f2a86048-6f45-4a0c-f0cd-b777ec3d3891"
      },
      "source": [
        "pow = np.power(t,r)\n",
        "print(pow)"
      ],
      "execution_count": 6,
      "outputs": [
        {
          "output_type": "stream",
          "text": [
            "[[0.96093631 0.07227911 0.50366044]\n",
            " [0.73911293 0.91431542 0.27316472]\n",
            " [0.8882215  0.68595942 0.9648548 ]]\n"
          ],
          "name": "stdout"
        }
      ]
    },
    {
      "cell_type": "markdown",
      "metadata": {
        "id": "yz53FlyfByYG",
        "colab_type": "text"
      },
      "source": [
        "## 4)Slicing and iterating of numpy arrays."
      ]
    },
    {
      "cell_type": "markdown",
      "metadata": {
        "id": "226_Y9KyB7Vd",
        "colab_type": "text"
      },
      "source": [
        "### a)slicing"
      ]
    },
    {
      "cell_type": "code",
      "metadata": {
        "id": "34BRmx6QB5b_",
        "colab_type": "code",
        "colab": {
          "base_uri": "https://localhost:8080/",
          "height": 34
        },
        "outputId": "fea097dc-393d-4c04-b8db-c04edb5ed68c"
      },
      "source": [
        " \n",
        "import numpy as np\n",
        "arr = np.array([7,5,3,9,2,5])\n",
        "print(arr[2:5])"
      ],
      "execution_count": null,
      "outputs": [
        {
          "output_type": "stream",
          "text": [
            "[3 9 2]\n"
          ],
          "name": "stdout"
        }
      ]
    },
    {
      "cell_type": "markdown",
      "metadata": {
        "id": "2Fvm4eaKCK2E",
        "colab_type": "text"
      },
      "source": [
        "### b) iterating"
      ]
    },
    {
      "cell_type": "code",
      "metadata": {
        "id": "kVP_Y1LFCXlV",
        "colab_type": "code",
        "colab": {
          "base_uri": "https://localhost:8080/",
          "height": 121
        },
        "outputId": "d8cd1421-5239-4b6c-f3f5-95648d2c3e3d"
      },
      "source": [
        " \n",
        "for x in arr:\n",
        "  print(x)"
      ],
      "execution_count": null,
      "outputs": [
        {
          "output_type": "stream",
          "text": [
            "7\n",
            "5\n",
            "3\n",
            "9\n",
            "2\n",
            "5\n"
          ],
          "name": "stdout"
        }
      ]
    },
    {
      "cell_type": "markdown",
      "metadata": {
        "id": "VlDIK3I2Chsi",
        "colab_type": "text"
      },
      "source": [
        "## 5)Matrix operation on numpy arrays."
      ]
    },
    {
      "cell_type": "code",
      "metadata": {
        "id": "AWK5TgocCnR9",
        "colab_type": "code",
        "colab": {
          "base_uri": "https://localhost:8080/",
          "height": 121
        },
        "outputId": "7803152d-1b58-4e05-e6d3-49a60b46c289"
      },
      "source": [
        " \n",
        "import numpy as np\n",
        "d = np.array([[4,3],[2,1]])\n",
        "v = np.array([[8,7],[6,5]])\n",
        "print(np.add(d,v))\n",
        "print(np.subtract(d,v))    \n",
        "print(np.divide(d,v))"
      ],
      "execution_count": null,
      "outputs": [
        {
          "output_type": "stream",
          "text": [
            "[[12 10]\n",
            " [ 8  6]]\n",
            "[[-4 -4]\n",
            " [-4 -4]]\n",
            "[[0.5        0.42857143]\n",
            " [0.33333333 0.2       ]]\n"
          ],
          "name": "stdout"
        }
      ]
    }
  ]
}